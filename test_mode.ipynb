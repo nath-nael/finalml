{
 "cells": [
  {
   "cell_type": "code",
   "execution_count": 9,
   "id": "a57890e3",
   "metadata": {},
   "outputs": [
    {
     "name": "stdout",
     "output_type": "stream",
     "text": [
      "Predicted salary cluster: 2\n",
      "Predicted salary range: 676473.6\n"
     ]
    }
   ],
   "source": [
    "# Step 1: Import libraries\n",
    "import pandas as pd\n",
    "import joblib\n",
    "\n",
    "# Step 2: Load model and encoders\n",
    "model = joblib.load(\"ridge_model.pkl\")\n",
    "scaler = joblib.load(\"scaler.pkl\")\n",
    "gender_mapping = joblib.load(\"gender_mapping.pkl\")\n",
    "salary_map = joblib.load(\"cluster_salary_map.pkl\")\n",
    "\n",
    "target_encoder_Country = joblib.load(\"target_encoder_Country_cleaned.pkl\")\n",
    "target_encoder_Industry = joblib.load(\"target_encoder_Industry_grouped.pkl\")\n",
    "target_encoder_Job = joblib.load(\"target_encoder_JobTitle_grouped.pkl\")\n",
    "\n",
    "# Step 3: Sample input (adjust as needed)\n",
    "sample = {\n",
    "    'Country_cleaned': 'United States',\n",
    "    'Industry_grouped': 'Technology',\n",
    "    'JobTitle_grouped': 'Software Engineer',\n",
    "    'Gender': 'Man'\n",
    "}\n",
    "df = pd.DataFrame([sample])\n",
    "\n",
    "# Step 4: Apply encoding\n",
    "df['Country_cleaned'] = target_encoder_Country.transform(df['Country_cleaned'])\n",
    "df['Industry_grouped'] = target_encoder_Industry.transform(df['Industry_grouped'])\n",
    "df['JobTitle_grouped'] = target_encoder_Job.transform(df['JobTitle_grouped'])\n",
    "df['Gender'] = df['Gender'].map(gender_mapping)\n",
    "\n",
    "# Step 5: Ensure column order matches scaler input\n",
    "df = df[['Country_cleaned', 'Industry_grouped', 'JobTitle_grouped', 'Gender']]\n",
    "\n",
    "# Step 6: Scale the input\n",
    "X_scaled = scaler.transform(df)\n",
    "\n",
    "# Step 7: Predict\n",
    "predicted_cluster = int(round(model.predict(X_scaled)[0]))\n",
    "predicted_salary = salary_map.get(predicted_cluster, \"Unknown\")\n",
    "\n",
    "# Step 8: Output\n",
    "print(\"Predicted salary cluster:\", predicted_cluster)\n",
    "print(\"Predicted salary range:\", predicted_salary)\n"
   ]
  },
  {
   "cell_type": "code",
   "execution_count": null,
   "id": "2be8101f",
   "metadata": {},
   "outputs": [],
   "source": []
  }
 ],
 "metadata": {
  "kernelspec": {
   "display_name": "base",
   "language": "python",
   "name": "python3"
  },
  "language_info": {
   "codemirror_mode": {
    "name": "ipython",
    "version": 3
   },
   "file_extension": ".py",
   "mimetype": "text/x-python",
   "name": "python",
   "nbconvert_exporter": "python",
   "pygments_lexer": "ipython3",
   "version": "3.12.7"
  }
 },
 "nbformat": 4,
 "nbformat_minor": 5
}
