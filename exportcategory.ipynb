{
 "cells": [
  {
   "cell_type": "code",
   "execution_count": 5,
   "id": "3875e1d3",
   "metadata": {},
   "outputs": [
    {
     "name": "stdout",
     "output_type": "stream",
     "text": [
      "Index(['Age', 'Industry_grouped', 'JobTitle_grouped', 'Salary',\n",
      "       'AdditionalComp', 'Country_cleaned', 'ExperienceOverall',\n",
      "       'ExperienceField', 'Education', 'Gender', 'Race'],\n",
      "      dtype='object')\n",
      "✅ Saved: target_encoder_Country_cleaned.pkl\n",
      "✅ Saved: target_encoder_Industry_grouped.pkl\n",
      "✅ Saved: target_encoder_JobTitle_grouped.pkl\n"
     ]
    }
   ],
   "source": [
    "import pandas as pd\n",
    "from category_encoders import TargetEncoder\n",
    "import joblib\n",
    "\n",
    "# Load the dataset you used for training\n",
    "df = pd.read_csv(\"CleanedDataset.csv\")\n",
    "\n",
    "# Check what target column is correct\n",
    "print(df.columns)  # Run this to verify\n",
    "# Use the actual correct name here:\n",
    "target = df[\"Salary\"]  # ← replace if needed\n",
    "\n",
    "# Columns you want to encode\n",
    "cols_to_encode = ['Country_cleaned', 'Industry_grouped', 'JobTitle_grouped']\n",
    "\n",
    "for col in cols_to_encode:\n",
    "    encoder = TargetEncoder()\n",
    "    encoder.fit(df[col], target)\n",
    "    joblib.dump(encoder, f\"target_encoder_{col}.pkl\")\n",
    "    print(f\"✅ Saved: target_encoder_{col}.pkl\")\n"
   ]
  },
  {
   "cell_type": "code",
   "execution_count": null,
   "id": "b917251e",
   "metadata": {},
   "outputs": [],
   "source": []
  }
 ],
 "metadata": {
  "kernelspec": {
   "display_name": "base",
   "language": "python",
   "name": "python3"
  },
  "language_info": {
   "codemirror_mode": {
    "name": "ipython",
    "version": 3
   },
   "file_extension": ".py",
   "mimetype": "text/x-python",
   "name": "python",
   "nbconvert_exporter": "python",
   "pygments_lexer": "ipython3",
   "version": "3.12.7"
  }
 },
 "nbformat": 4,
 "nbformat_minor": 5
}
